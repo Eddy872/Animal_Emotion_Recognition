{
 "cells": [
  {
   "cell_type": "code",
   "execution_count": 4,
   "id": "f669dcda",
   "metadata": {},
   "outputs": [
    {
     "ename": "FileNotFoundError",
     "evalue": "[Errno 2] No such file or directory: '../dataset/animal_emotions/videos'",
     "output_type": "error",
     "traceback": [
      "\u001b[0;31m---------------------------------------------------------------------------\u001b[0m",
      "\u001b[0;31mFileNotFoundError\u001b[0m                         Traceback (most recent call last)",
      "\u001b[0;32m<ipython-input-4-7f14a22b9c46>\u001b[0m in \u001b[0;36m<module>\u001b[0;34m\u001b[0m\n\u001b[1;32m     11\u001b[0m \u001b[0;34m\u001b[0m\u001b[0m\n\u001b[1;32m     12\u001b[0m \u001b[0;31m# === Parcourir les vidéos par émotion\u001b[0m\u001b[0;34m\u001b[0m\u001b[0;34m\u001b[0m\u001b[0;34m\u001b[0m\u001b[0m\n\u001b[0;32m---> 13\u001b[0;31m \u001b[0;32mfor\u001b[0m \u001b[0memotion\u001b[0m \u001b[0;32min\u001b[0m \u001b[0mos\u001b[0m\u001b[0;34m.\u001b[0m\u001b[0mlistdir\u001b[0m\u001b[0;34m(\u001b[0m\u001b[0mVIDEO_DIR\u001b[0m\u001b[0;34m)\u001b[0m\u001b[0;34m:\u001b[0m\u001b[0;34m\u001b[0m\u001b[0;34m\u001b[0m\u001b[0m\n\u001b[0m\u001b[1;32m     14\u001b[0m     \u001b[0memotion_path\u001b[0m \u001b[0;34m=\u001b[0m \u001b[0mos\u001b[0m\u001b[0;34m.\u001b[0m\u001b[0mpath\u001b[0m\u001b[0;34m.\u001b[0m\u001b[0mjoin\u001b[0m\u001b[0;34m(\u001b[0m\u001b[0mVIDEO_DIR\u001b[0m\u001b[0;34m,\u001b[0m \u001b[0memotion\u001b[0m\u001b[0;34m)\u001b[0m\u001b[0;34m\u001b[0m\u001b[0;34m\u001b[0m\u001b[0m\n\u001b[1;32m     15\u001b[0m     \u001b[0;32mif\u001b[0m \u001b[0;32mnot\u001b[0m \u001b[0mos\u001b[0m\u001b[0;34m.\u001b[0m\u001b[0mpath\u001b[0m\u001b[0;34m.\u001b[0m\u001b[0misdir\u001b[0m\u001b[0;34m(\u001b[0m\u001b[0memotion_path\u001b[0m\u001b[0;34m)\u001b[0m\u001b[0;34m:\u001b[0m\u001b[0;34m\u001b[0m\u001b[0;34m\u001b[0m\u001b[0m\n",
      "\u001b[0;31mFileNotFoundError\u001b[0m: [Errno 2] No such file or directory: '../dataset/animal_emotions/videos'"
     ]
    }
   ],
   "source": [
    "import os\n",
    "from moviepy.editor import VideoFileClip\n",
    "\n",
    "# === Config\n",
    "VIDEO_DIR = \"../dataset/animals_emotions/videos\"\n",
    "FRAME_DIR = \"../dataset/animals_emotions/frames\"\n",
    "MAX_FRAMES = 16\n",
    "FRAME_SIZE = (224, 224)\n",
    "\n",
    "os.makedirs(FRAME_DIR, exist_ok=True)\n",
    "\n",
    "# === Parcourir les vidéos par émotion\n",
    "for emotion in os.listdir(VIDEO_DIR):\n",
    "    emotion_path = os.path.join(VIDEO_DIR, emotion)\n",
    "    if not os.path.isdir(emotion_path):\n",
    "        continue\n",
    "\n",
    "    for filename in os.listdir(emotion_path):\n",
    "        if not filename.endswith(\".mp4\"):\n",
    "            continue\n",
    "\n",
    "        # === Extraire animal, émotion, ID\n",
    "        base = filename.replace(\".mp4\", \"\")\n",
    "        parts = base.split(\"_\")\n",
    "        if len(parts) < 3:\n",
    "            print(f\"❌ Nom de fichier incorrect : {filename}\")\n",
    "            continue\n",
    "        animal = parts[0]\n",
    "        emotion = parts[1]\n",
    "        video_id = parts[2]\n",
    "\n",
    "        video_path = os.path.join(emotion_path, filename)\n",
    "        try:\n",
    "            clip = VideoFileClip(video_path)\n",
    "            duration = clip.duration\n",
    "            step = duration / MAX_FRAMES\n",
    "\n",
    "            for i in range(MAX_FRAMES):\n",
    "                t = i * step\n",
    "                frame = clip.get_frame(t)  # numpy array (H, W, 3)\n",
    "\n",
    "                # Redimensionner l'image\n",
    "                from PIL import Image\n",
    "                img = Image.fromarray(frame)\n",
    "                img = img.resize(FRAME_SIZE)\n",
    "\n",
    "                frame_name = f\"{animal}_{emotion}_{video_id}_{i+1:03d}.jpg\"\n",
    "                frame_path = os.path.join(FRAME_DIR, frame_name)\n",
    "                img.save(frame_path)\n",
    "\n",
    "            clip.close()\n",
    "            print(f\"✅ {MAX_FRAMES} frames extraites de {filename}\")\n",
    "\n",
    "        except Exception as e:\n",
    "            print(f\"⚠️ Erreur avec {filename} : {e}\")\n"
   ]
  },
  {
   "cell_type": "code",
   "execution_count": null,
   "id": "894000b2",
   "metadata": {},
   "outputs": [],
   "source": []
  }
 ],
 "metadata": {
  "kernelspec": {
   "display_name": "Python 3",
   "language": "python",
   "name": "python3"
  },
  "language_info": {
   "codemirror_mode": {
    "name": "ipython",
    "version": 3
   },
   "file_extension": ".py",
   "mimetype": "text/x-python",
   "name": "python",
   "nbconvert_exporter": "python",
   "pygments_lexer": "ipython3",
   "version": "3.8.8"
  }
 },
 "nbformat": 4,
 "nbformat_minor": 5
}
