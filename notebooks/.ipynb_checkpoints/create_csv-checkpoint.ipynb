{
 "cells": [
  {
   "cell_type": "code",
   "execution_count": 3,
   "id": "eb56bfd5",
   "metadata": {},
   "outputs": [],
   "source": [
    "import os\n",
    "import pandas as pd\n",
    "\n",
    "FRAME_DIR = \"../dataset/animals_emotions/frames\"\n",
    "data = []\n",
    "\n",
    "for filename in os.listdir(FRAME_DIR):\n",
    "    if filename.endswith(\".jpg\"):\n",
    "        # Exemple : dog_joy_01_001.jpg\n",
    "        parts = filename.replace(\".jpg\", \"\").split(\"_\")\n",
    "        if len(parts) < 4:\n",
    "            continue\n",
    "        animal = parts[0]\n",
    "        emotion = parts[1]\n",
    "        data.append({\n",
    "            \"image\": filename,\n",
    "            \"animal\": animal,\n",
    "            \"emotion\": emotion\n",
    "        })\n"
   ]
  },
  {
   "cell_type": "code",
   "execution_count": 4,
   "id": "dcf372ae",
   "metadata": {},
   "outputs": [
    {
     "data": {
      "text/html": [
       "<div>\n",
       "<style scoped>\n",
       "    .dataframe tbody tr th:only-of-type {\n",
       "        vertical-align: middle;\n",
       "    }\n",
       "\n",
       "    .dataframe tbody tr th {\n",
       "        vertical-align: top;\n",
       "    }\n",
       "\n",
       "    .dataframe thead th {\n",
       "        text-align: right;\n",
       "    }\n",
       "</style>\n",
       "<table border=\"1\" class=\"dataframe\">\n",
       "  <thead>\n",
       "    <tr style=\"text-align: right;\">\n",
       "      <th></th>\n",
       "      <th>image</th>\n",
       "      <th>animal</th>\n",
       "      <th>emotion</th>\n",
       "    </tr>\n",
       "  </thead>\n",
       "  <tbody>\n",
       "    <tr>\n",
       "      <th>0</th>\n",
       "      <td>horse_hunger_01_014.jpg</td>\n",
       "      <td>horse</td>\n",
       "      <td>hunger</td>\n",
       "    </tr>\n",
       "    <tr>\n",
       "      <th>1</th>\n",
       "      <td>bird_joy_02_016.jpg</td>\n",
       "      <td>bird</td>\n",
       "      <td>joy</td>\n",
       "    </tr>\n",
       "    <tr>\n",
       "      <th>2</th>\n",
       "      <td>bird_joy_02_002.jpg</td>\n",
       "      <td>bird</td>\n",
       "      <td>joy</td>\n",
       "    </tr>\n",
       "    <tr>\n",
       "      <th>3</th>\n",
       "      <td>dog_hunger_01_004.jpg</td>\n",
       "      <td>dog</td>\n",
       "      <td>hunger</td>\n",
       "    </tr>\n",
       "    <tr>\n",
       "      <th>4</th>\n",
       "      <td>dog_hunger_01_010.jpg</td>\n",
       "      <td>dog</td>\n",
       "      <td>hunger</td>\n",
       "    </tr>\n",
       "  </tbody>\n",
       "</table>\n",
       "</div>"
      ],
      "text/plain": [
       "                     image animal emotion\n",
       "0  horse_hunger_01_014.jpg  horse  hunger\n",
       "1      bird_joy_02_016.jpg   bird     joy\n",
       "2      bird_joy_02_002.jpg   bird     joy\n",
       "3    dog_hunger_01_004.jpg    dog  hunger\n",
       "4    dog_hunger_01_010.jpg    dog  hunger"
      ]
     },
     "execution_count": 4,
     "metadata": {},
     "output_type": "execute_result"
    }
   ],
   "source": [
    "df = pd.DataFrame(data)\n",
    "df.head()"
   ]
  },
  {
   "cell_type": "code",
   "execution_count": null,
   "id": "8d7254c8",
   "metadata": {},
   "outputs": [],
   "source": [
    "df.to_csv(\"../dataset/frames_labels.csv\", index=False)\n",
    "print(\"✅ CSV généré avec\", len(df), \"images.\")"
   ]
  }
 ],
 "metadata": {
  "kernelspec": {
   "display_name": "Python 3",
   "language": "python",
   "name": "python3"
  },
  "language_info": {
   "codemirror_mode": {
    "name": "ipython",
    "version": 3
   },
   "file_extension": ".py",
   "mimetype": "text/x-python",
   "name": "python",
   "nbconvert_exporter": "python",
   "pygments_lexer": "ipython3",
   "version": "3.8.8"
  }
 },
 "nbformat": 4,
 "nbformat_minor": 5
}
